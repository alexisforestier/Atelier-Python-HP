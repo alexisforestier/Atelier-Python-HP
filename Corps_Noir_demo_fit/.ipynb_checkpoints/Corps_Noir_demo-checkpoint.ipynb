{
 "cells": [
  {
   "cell_type": "markdown",
   "id": "601a9fdc",
   "metadata": {},
   "source": [
    "# Démonstration: Fit d'un spectre de rayonnement thermique"
   ]
  },
  {
   "cell_type": "markdown",
   "id": "2a7d48d2",
   "metadata": {},
   "source": [
    "Comme dans le cas du spectre de rubis, nous allons commencer par importer les modules qui seront nécessaires à notre analyse. Il s'agit des modules:\n",
    "* `numpy` pour les mathématiques, la gestion des tableaux et l'ouverture de fichiers\n",
    "* `matplotlib` pour le tracé graphique\n",
    "* `scipy`, une bibliothèque pour le calcul scientifique, ici la fonction `curve_fit` qui sert aux regression non linéaires\n"
   ]
  },
  {
   "cell_type": "code",
   "execution_count": 3,
   "id": "356c492f",
   "metadata": {},
   "outputs": [],
   "source": [
    "import numpy as np\n",
    "import matplotlib.pyplot as plt\n",
    "from scipy.optimize import curve_fit"
   ]
  },
  {
   "cell_type": "markdown",
   "id": "89f169ff",
   "metadata": {},
   "source": [
    "On a ici procédé à 2 types d'import:\n",
    "\n",
    "* le format `import module as alias` pour importer un module et toutes ses méthodes (fonctionnalités), que l'on pourra appeler en utilisant `alias.methode`.\n",
    "* le format `from module import methode` qui permet de n'importer qu'une seule fonctionnalité, que l'on pourra appeler directement.\n",
    "\n",
    "Notons que certains modules ont un format de \"packages\", c'est à dire qu'ils contiennent des sous-modules : c'est le cas par exemple dans l'instruction `from scipy.optimize import curve_fit` où la fonction `curve_fit` du sous-module `optimize` de `scipy` est chargée."
   ]
  },
  {
   "cell_type": "markdown",
   "id": "afaf2bfd",
   "metadata": {},
   "source": [
    "On commence par charger le fichier de données obtenu par la mesure de pyrométrie optique. Il s'agit d'un fichier texte qui contient deux colonnes : les intensités (en unité arbitaire), et les longueurs d'onde correspondantes en nm."
   ]
  },
  {
   "cell_type": "code",
   "execution_count": 11,
   "id": "e6dc9a06",
   "metadata": {},
   "outputs": [
    {
     "name": "stdout",
     "output_type": "stream",
     "text": [
      "x:  [459.2819519  459.52770996 459.77346802 ... 946.76696777 947.01141357\n",
      " 947.25585938]\n",
      "y:  [1.68150192e+09 1.42166102e+09 1.41839869e+09 ... 1.06408609e+11\n",
      " 1.07090338e+11 1.06453612e+11]\n"
     ]
    }
   ],
   "source": [
    "# Read data from text file:\n",
    "# Note : les colonnes sont séparées par le caractère tab, codé par \\t\n",
    "data = np.loadtxt('data_planck.txt', delimiter='\\t')\n",
    "\n",
    "# La première colonne correspond aux intensités:\n",
    "y_data = data[:, 0]\n",
    "# La seconde aux longueurs d'onde:\n",
    "x_data = data[:, 1]\n",
    "\n",
    "print('x: ', x_data)\n",
    "print('y: ', y_data)"
   ]
  },
  {
   "cell_type": "code",
   "execution_count": null,
   "id": "b1a81639",
   "metadata": {},
   "outputs": [],
   "source": []
  },
  {
   "cell_type": "markdown",
   "id": "49047ab7",
   "metadata": {},
   "source": [
    "> [!NOTE]\n",
    ">Le spectre est déjà normalisé par la fonction de transfert du montage expérimental, préalablement calibré. Il peut donc directement être analysé avec les lois usuelles du corps gris."
   ]
  },
  {
   "cell_type": "code",
   "execution_count": null,
   "id": "438407bc",
   "metadata": {},
   "outputs": [],
   "source": []
  }
 ],
 "metadata": {
  "kernelspec": {
   "display_name": "Python 3 (ipykernel)",
   "language": "python",
   "name": "python3"
  },
  "language_info": {
   "codemirror_mode": {
    "name": "ipython",
    "version": 3
   },
   "file_extension": ".py",
   "mimetype": "text/x-python",
   "name": "python",
   "nbconvert_exporter": "python",
   "pygments_lexer": "ipython3",
   "version": "3.9.2"
  },
  "toc": {
   "base_numbering": 1,
   "nav_menu": {},
   "number_sections": false,
   "sideBar": true,
   "skip_h1_title": false,
   "title_cell": "Table of Contents",
   "title_sidebar": "Contents",
   "toc_cell": false,
   "toc_position": {
    "height": "calc(100% - 180px)",
    "left": "10px",
    "top": "150px",
    "width": "258px"
   },
   "toc_section_display": true,
   "toc_window_display": true
  }
 },
 "nbformat": 4,
 "nbformat_minor": 5
}
